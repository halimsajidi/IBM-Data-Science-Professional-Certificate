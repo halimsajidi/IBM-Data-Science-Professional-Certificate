{
  "nbformat": 4,
  "nbformat_minor": 0,
  "metadata": {
    "colab": {
      "provenance": []
    },
    "kernelspec": {
      "name": "python3",
      "display_name": "Python 3"
    },
    "language_info": {
      "name": "python"
    }
  },
  "cells": [
    {
      "cell_type": "markdown",
      "source": [
        "# Final_Assignment"
      ],
      "metadata": {
        "id": "Egli2OlHELxp"
      }
    },
    {
      "cell_type": "markdown",
      "source": [
        "In this notebook, Data Science Tools are summarized"
      ],
      "metadata": {
        "id": "k69aXkd0E2aj"
      }
    },
    {
      "cell_type": "markdown",
      "source": [
        "\n",
        "Some of the popular languages that Data Scientists use are:\n",
        "1. Python\n",
        "2. R\n",
        "3. SQL\n",
        "    \n"
      ],
      "metadata": {
        "id": "fx3RLSpMFIxE"
      }
    },
    {
      "cell_type": "markdown",
      "source": [
        "Some of the commonly used libraries used by Data Scientists include:\n",
        "1. Pandas\n",
        "2. NumPy\n",
        "3. Matplotlib"
      ],
      "metadata": {
        "id": "vhx8Fn2_FgYT"
      }
    },
    {
      "cell_type": "markdown",
      "source": [
        "| Data Science Tools |\n",
        "|-------------------|\n",
        "| Jupyter Notebook  |\n",
        "| RStudio           |\n",
        "| PyCharm           |"
      ],
      "metadata": {
        "id": "eFo7cpWmFlWU"
      }
    },
    {
      "cell_type": "markdown",
      "source": [
        "### Below are a few examples of evaluating arithmetic expressions in Python"
      ],
      "metadata": {
        "id": "ru3fdikvFxGB"
      }
    },
    {
      "cell_type": "code",
      "source": [
        "# This a simple arithmetic expression to mutiply then add integers:\n",
        "result = (3 * 4) + 5\n",
        "result"
      ],
      "metadata": {
        "colab": {
          "base_uri": "https://localhost:8080/"
        },
        "id": "axlACUysFOgY",
        "outputId": "8b1e58e2-abc8-44a3-90d3-ce0d82ba6bc3"
      },
      "execution_count": 3,
      "outputs": [
        {
          "output_type": "execute_result",
          "data": {
            "text/plain": [
              "17"
            ]
          },
          "metadata": {},
          "execution_count": 3
        }
      ]
    },
    {
      "cell_type": "code",
      "source": [
        "# This will convert 360 minutes to hours by dividing by 60\n",
        "hours = 360 / 60\n",
        "hours"
      ],
      "metadata": {
        "colab": {
          "base_uri": "https://localhost:8080/"
        },
        "id": "UHTeSNo5F9X4",
        "outputId": "143c66fc-d74f-4ccd-c7e3-48ef8675ad67"
      },
      "execution_count": 5,
      "outputs": [
        {
          "output_type": "execute_result",
          "data": {
            "text/plain": [
              "6.0"
            ]
          },
          "metadata": {},
          "execution_count": 5
        }
      ]
    },
    {
      "cell_type": "markdown",
      "source": [
        "**Objectives:**\n",
        "- List popular languages for Data Science\n",
        "- Highlight commonly used libraries\n",
        "- Introduce key Data Science tools"
      ],
      "metadata": {
        "id": "lcxSnrT0Gixb"
      }
    },
    {
      "cell_type": "markdown",
      "source": [
        "## Author\n",
        "Halim Sajidi"
      ],
      "metadata": {
        "id": "2ZiE0VlUGtdv"
      }
    }
  ]
}